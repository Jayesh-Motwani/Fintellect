{
 "cells": [
  {
   "cell_type": "code",
   "execution_count": 47,
   "id": "4f0329bc-92d0-453b-8925-202e314f1d7a",
   "metadata": {},
   "outputs": [],
   "source": [
    "from GoogleNews import GoogleNews\n",
    "import requests\n",
    "import json\n",
    "import pandas as pd\n",
    "from openai import OpenAI\n",
    "import os"
   ]
  },
  {
   "cell_type": "code",
   "execution_count": 40,
   "id": "62e6e3a2-a2de-415c-ad53-b3c9800e70f4",
   "metadata": {},
   "outputs": [],
   "source": [
    "def getNews(ticker_name):\n",
    "    df = pd.read_csv('shap_top_features.csv')\n",
    "    row = df[df['Ticker'] == ticker_name].iloc[0]\n",
    "    d1, d2 = row['Date_1'], row['Date_2']\n",
    "    f1, f2, f3, f4, f5 = row['Feature_1'], row['Feature_2'], row['Feature_3'], row['Feature_4'], row['Feature_5']\n",
    "    googlenews = GoogleNews(start=d1, end=d2)\n",
    "    googlenews.search(ticker_name)\n",
    "    results = googlenews.results()\n",
    "    headings = [article['title'] for article in results if 'title' in article]\n",
    "    prompt_content = \"\\n\".join(headings)\n",
    "    prompt = (f\"Given the following news headlines about {ticker_name} between {d1} and {d2}:\\n\"\n",
    "              f\"{prompt_content}\\n\\nPlease analyze based on features: {f1}, {f2}, {f3}, {f4}, {f5}. The Q4 in the features means just the last quarter and Q1 means the 4th last quarter. Explain the features with the news with your analysis to a beginner and always explain what is the meaning of each feature to very beginner and how does it afftect the stock movement between the d1 and d2 for that ticker showing any stark growth or fall or just normal gradual increase or decline.\")\n",
    "\n",
    "    return prompt"
   ]
  },
  {
   "cell_type": "code",
   "execution_count": null,
   "id": "dbb6a624-66e3-4b98-895d-dd28eda9c0d4",
   "metadata": {},
   "outputs": [],
   "source": [
    "def getSummary(Name='ZYDUSLIFE.NS'):\n",
    "    prompt = getNews(Name)\n",
    "    client = OpenAI(\n",
    "        api_key=\"pplx-key\",\n",
    "        base_url=\"https://api.perplexity.ai\"\n",
    "    )\n",
    "    \n",
    "    resp = client.chat.completions.create(\n",
    "        model=\"sonar\",\n",
    "        messages=[\n",
    "            {\"role\": \"user\", \"content\": prompt}\n",
    "        ]\n",
    "    )\n",
    "    return resp.choices[0].message.content"
   ]
  },
  {
   "cell_type": "code",
   "execution_count": 42,
   "id": "e0072991-ba88-4aae-8f23-2f5ee4ac53df",
   "metadata": {},
   "outputs": [
    {
     "data": {
      "text/plain": [
       "'Here is an analysis of the ABB India (ABB.NS) news headlines and the reported quarterly financial features (EPS, shares, interest expense) between 2024-06-30 and 2025-06-30, explained for a beginner:\\n\\n---\\n\\n### Key Financial Features Explained Simply:\\n\\n- **Diluted EPS (Earnings Per Share):**  \\n  This tells you how much profit the company made *per each share* after accounting for potentially convertible shares. If this number increases (+0.01), it means the company earned more profit per share, which is usually good for the stock price. If it decreases (-0.00), that indicates a slight loss impact on profit per share.\\n\\n- **Diluted Average Shares:**  \\n  The average number of shares outstanding, adjusted for dilution. If this number rises (+0.00; almost stable), it means more shares, which could dilute (reduce) EPS unless net income rises proportionally.\\n\\n- **Interest Expense:**  \\n  The cost the company pays on debt. If interest expense rises, it reduces net income; if it stays the same (+0.00), it does not affect net income.\\n\\n- **Quarter Notation:**  \\n  Q4 = last quarter (most recent, June quarter in this case)  \\n  Q1 = four quarters ago (one year prior)  \\n  This helps track financial changes over the year.\\n\\n---\\n\\n### Analysis of the Reported Features:\\n\\n1. **Q3_Diluted EPS: +0.01**  \\n   EPS increased in Q3, implying higher profitability on a per-share basis. This fits with headlines reporting \"Engineering firm ABB India posts bigger Q3 profit on electrification demand,\" showing that stronger sales and demand increased profits[News].\\n\\n2. **Q4_Diluted EPS: +0.01**  \\n   Similarly, EPS grew in Q4 (the latest quarter), confirming consistent profit growth. This is reflected in the steady demand and revenue growth statements with influences like electrification projects and new order backlogs (INR 10,000 crore order backlog noted)[1].\\n\\n3. **Q2_Diluted Average Shares: +0.00**  \\n   Number of shares is essentially stable, so the EPS change directly reflects net income changes, not dilution effects.\\n\\n4. **Q1_Interest Expense: +0.00**  \\n   Interest expense stayed steady one year ago, which means no additional burden on profits from debt cost changes during that earlier period. Profit changes come mainly from operational factors.\\n\\n5. **Q1_Diluted EPS: -0.00**  \\n   A slight decline in EPS a year ago correlates with news of a 20% Q1 profit fall due to forex volatility and other factors, indicating weaker profitability in earlier quarters[5].\\n\\n---\\n\\n### How These Features and News Relate to Stock Movement:\\n\\n- **Profit Increase (EPS +0.01 in Q3 and Q4)**: Growing EPS indicated improving profitability due to strong demand for electrification and operational efficiency. This often leads to stock price *growth* as investors see better earnings prospects.\\n\\n- **Stable Shares and Interest Expense**: Since shares outstanding and financing costs remained stable, the profit increase primarily reflects genuine operational performance, which is a strong positive signal.\\n\\n- **Profit Fall in Earliest Quarters (EPS -0.00 in Q1)**: Earlier in the period, profit dipped due to external factors (forex volatility), possibly causing a temporary *decline or stagnation* in stock price.\\n\\n- **Gradual Revenue and Backlog Growth**: News on a solid INR 10,000 crore order backlog and double-digit revenue growth (12% in Q2 CY2025) supports *steady gradual increase* in the company’s financial health and stock attractiveness, albeit with some cyclic corrections[1].\\n\\n### Overall Stock Movement Expectation:\\n\\n- From Q1 to Q4, the stock likely showed **initial weakness or slowed growth due to profit fall and forex issues**, followed by **a gradual and steady improvement in profits and outlook from Q2 onward**, driven by increasing electrification demand and strong order backlog.\\n\\n- This pattern usually results in a **normal gradual increase in stock price** rather than stark jumps or falls, reflecting a resilient but cyclical business environment.\\n\\n---\\n\\n### Beginner Summary:\\n\\n- **EPS** measures profit per share. When EPS increases (+0.01), profits are higher and that usually lifts the stock price.  \\n- **Average shares** stable means no dilution problem; profit growth is real.  \\n- **Interest costs** steady means no extra burden on earnings.  \\n- Early in the year, profits were a bit weak due to currency issues, but later quarters show solid growth due to strong business demand.  \\n- This means the stock probably moved gradually upward during this year, reflecting steady business improvement rather than sudden big changes.\\n\\nThis explanation links the financial features you provided with ABB India\\'s news and outlook in 2024-2025.'"
      ]
     },
     "execution_count": 42,
     "metadata": {},
     "output_type": "execute_result"
    }
   ],
   "source": [
    "getSummary('ABB.NS')"
   ]
  },
  {
   "cell_type": "code",
   "execution_count": null,
   "id": "4c2ba038-c522-4981-ae5f-1def7da5460f",
   "metadata": {},
   "outputs": [],
   "source": []
  }
 ],
 "metadata": {
  "kernelspec": {
   "display_name": "Python 3 (ipykernel)",
   "language": "python",
   "name": "python3"
  },
  "language_info": {
   "codemirror_mode": {
    "name": "ipython",
    "version": 3
   },
   "file_extension": ".py",
   "mimetype": "text/x-python",
   "name": "python",
   "nbconvert_exporter": "python",
   "pygments_lexer": "ipython3",
   "version": "3.12.4"
  }
 },
 "nbformat": 4,
 "nbformat_minor": 5
}
