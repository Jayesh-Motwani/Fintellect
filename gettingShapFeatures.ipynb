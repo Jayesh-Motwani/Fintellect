{
 "cells": [
  {
   "cell_type": "code",
   "execution_count": 1,
   "id": "1fe97af4-bd72-4bd5-82fd-52207544b5ae",
   "metadata": {},
   "outputs": [],
   "source": [
    "import pandas as pd\n",
    "import numpy as np\n",
    "from sklearn.preprocessing import StandardScaler, MinMaxScaler\n",
    "from tensorflow import keras\n",
    "from sklearn.metrics import mean_squared_error, mean_absolute_error, r2_score\n",
    "import matplotlib.pyplot as plt\n",
    "import shap"
   ]
  },
  {
   "cell_type": "code",
   "execution_count": 2,
   "id": "e63567ca-bb28-484f-999c-4b33b8ccdd4b",
   "metadata": {},
   "outputs": [],
   "source": [
    "df = pd.read_csv('final_engineered.csv')\n",
    "\n",
    "df['Date'] = pd.to_datetime(df['Date'])\n",
    "df = df.sort_values(['Ticker', 'Date'])\n",
    "\n",
    "# Define feature and target columns\n",
    "target_col = 'Net Income'\n",
    "# Select all numeric columns as features, excluding the target and identifiers\n",
    "feature_cols = df.select_dtypes(include=np.number).columns.drop(target_col)"
   ]
  },
  {
   "cell_type": "code",
   "execution_count": 8,
   "id": "20c61bfc-13f1-4684-92d0-21af34c8fd18",
   "metadata": {},
   "outputs": [
    {
     "name": "stdout",
     "output_type": "stream",
     "text": [
      "\n",
      "Original X shape (Samples, Timesteps, Features): (238, 4, 25)\n",
      "Original y shape (Samples,): (238,)\n"
     ]
    }
   ],
   "source": [
    "X, y = [], []\n",
    "n_past = 4 # Use the past 4 rows (quarters) to predict the 5th\n",
    "\n",
    "# Group by each company's ticker to create sequences\n",
    "for ticker, group in df.groupby('Ticker'):\n",
    "    features = group[feature_cols].values\n",
    "    target = group[target_col].values\n",
    "    \n",
    "    # Ensure there's enough data for at least one window\n",
    "    if len(group) > n_past:\n",
    "        for i in range(n_past, len(group)):\n",
    "            # The past 4 rows of features\n",
    "            X.append(features[i-n_past:i, :])\n",
    "            # The 'Net Income' of the current row (the one we want to predict)\n",
    "            y.append(target[i])\n",
    "\n",
    "X = np.array(X)\n",
    "y = np.array(y)\n",
    "\n",
    "print(f\"\\nOriginal X shape (Samples, Timesteps, Features): {X.shape}\")\n",
    "print(f\"Original y shape (Samples,): {y.shape}\")"
   ]
  },
  {
   "cell_type": "code",
   "execution_count": 10,
   "id": "40d428f3-1cc2-45fe-b862-d1764b5cd8d8",
   "metadata": {},
   "outputs": [],
   "source": [
    "# Split data before scaling\n",
    "# X_train, X_test, y_train, y_test = train_test_split(X, y, test_size=0.2, random_state=42)\n",
    "\n",
    "# --- 4. Scale the Data ---\n",
    "# Scaler for features\n",
    "scaler_X = MinMaxScaler()\n",
    "n_samples, timesteps, n_features = X.shape\n",
    "# n_test_samples = X_test.shape[0]\n",
    "\n",
    "# Reshape for scaling: (samples * timesteps, features)\n",
    "X_reshaped = X.reshape(-1, n_features)\n",
    "# X_test_reshaped = X_test.reshape(-1, n_features)\n",
    "\n",
    "# Fit on training data and transform both train and test\n",
    "X_scaled_reshaped = scaler_X.fit_transform(X_reshaped)\n",
    "# X_test_scaled_reshaped = scaler_X.transform(X_test_reshaped)\n",
    "\n",
    "# Reshape back to (samples, timesteps, features)\n",
    "X_scaled = X_scaled_reshaped.reshape(n_samples, timesteps, n_features)\n",
    "# X_test_scaled = X_test_scaled_reshaped.reshape(n_test_samples, timesteps, n_features)\n",
    "\n",
    "# Scaler for the target variable (y)\n",
    "scaler_y = MinMaxScaler()\n",
    "y_scaled = scaler_y.fit_transform(y.reshape(-1, 1))\n",
    "# y_test_scaled = scaler_y.transform(y_test.reshape(-1, 1))"
   ]
  },
  {
   "cell_type": "code",
   "execution_count": 12,
   "id": "9100f990-e93c-4601-8918-a092658d5186",
   "metadata": {},
   "outputs": [
    {
     "name": "stdout",
     "output_type": "stream",
     "text": [
      "\n",
      "Flattened X_train shape for FCN input: (238, 100)\n"
     ]
    }
   ],
   "source": [
    "# This is the key step for the FCN approach\n",
    "X_flat = X_scaled.reshape(n_samples, timesteps * n_features)\n",
    "# X_test_flat = X_test_scaled.reshape(n_test_samples, timesteps * n_features)\n",
    "\n",
    "print(f\"\\nFlattened X_train shape for FCN input: {X_flat.shape}\")\n",
    "# print(f\"Flattened X_test shape for FCN input: {X_test_flat.shape}\")"
   ]
  },
  {
   "cell_type": "code",
   "execution_count": 14,
   "id": "7bd33f1a-9b9d-4bb2-b9d9-7d07efaa3617",
   "metadata": {},
   "outputs": [
    {
     "name": "stdout",
     "output_type": "stream",
     "text": [
      "\u001b[1m8/8\u001b[0m \u001b[32m━━━━━━━━━━━━━━━━━━━━\u001b[0m\u001b[37m\u001b[0m \u001b[1m0s\u001b[0m 25ms/step\n"
     ]
    }
   ],
   "source": [
    "model = keras.models.load_model('my_model.keras')\n",
    "predictions = model.predict(X_flat)"
   ]
  },
  {
   "cell_type": "code",
   "execution_count": 15,
   "id": "e5492de8-2f69-443d-a137-7f686d3959f7",
   "metadata": {},
   "outputs": [],
   "source": [
    "predictions_actual = scaler_y.inverse_transform(predictions)\n",
    "# print(predictions_actual)"
   ]
  },
  {
   "cell_type": "code",
   "execution_count": 16,
   "id": "9effd093-9e1c-4845-89ad-1fa2709a4a79",
   "metadata": {},
   "outputs": [],
   "source": [
    "# mae = mean_absolute_error(y, predictions_actual)\n",
    "# mse = mean_squared_error(y, predictions_actual)\n",
    "# rmse = np.sqrt(mse)\n",
    "\n",
    "# print(f\"Mean Absolute Error (MAE): {mae:e}\")\n",
    "# print(f\"Mean Squared Error (MSE): {mse:e}\")\n",
    "# print(f\"Root Mean Squared Error (RMSE): {rmse:e}\")\n",
    "\n",
    "\n",
    "# # Plotting\n",
    "# plt.style.use('seaborn-v0_8-whitegrid')\n",
    "# fig, ax = plt.subplots(figsize=(8, 8))\n",
    "# ax.scatter(y, predictions_actual, alpha=0.7, edgecolors='k')\n",
    "# ax.plot([y.min(), y.max()], [y.min(), y.max()], 'r--', lw=2)\n",
    "# ax.set_xlabel('Actual Values', fontsize=12)\n",
    "# ax.set_ylabel('Predicted Values', fontsize=12)\n",
    "# ax.set_title('Actual vs. Predicted Values', fontsize=14, fontweight='bold')\n",
    "# plt.show()"
   ]
  },
  {
   "cell_type": "code",
   "execution_count": 20,
   "id": "c7069040-3562-4161-bfa5-3a99d1454ac4",
   "metadata": {},
   "outputs": [],
   "source": [
    "# df.describe()"
   ]
  },
  {
   "cell_type": "code",
   "execution_count": 22,
   "id": "29b24b1c-875e-408f-bd23-e1fdb07f610c",
   "metadata": {},
   "outputs": [],
   "source": [
    "def make_flattened_feature_names(feature_names, timesteps):\n",
    "    \"\"\"\n",
    "    Expands feature names into flattened names for SHAP on FCN input.\n",
    "    \n",
    "    Example: [\"Revenue\", \"Expenses\"], timesteps=4\n",
    "    -> [\"Q1_Revenue\", \"Q1_Expenses\", \"Q2_Revenue\", \"Q2_Expenses\", ...]\n",
    "    \"\"\"\n",
    "    flat_names = []\n",
    "    for t in range(1, timesteps+1):\n",
    "        for f in feature_names:\n",
    "            flat_names.append(f\"Q{t}_{f}\")\n",
    "    return flat_names"
   ]
  },
  {
   "cell_type": "code",
   "execution_count": 24,
   "id": "e93bfd4e-95da-4a30-8c6e-90bf72fb6a1b",
   "metadata": {},
   "outputs": [],
   "source": [
    "feature_names = feature_cols.tolist()  # or list(df[feature_cols].columns)\n",
    "timesteps = X.shape[1]\n",
    "\n",
    "flat_feature_names = make_flattened_feature_names(feature_names, timesteps)\n",
    "# print(feature_names[:10])  # sanity check"
   ]
  },
  {
   "cell_type": "code",
   "execution_count": 26,
   "id": "58a2868e-1e76-4de4-9609-5322202bbff8",
   "metadata": {},
   "outputs": [
    {
     "name": "stderr",
     "output_type": "stream",
     "text": [
      "PermutationExplainer explainer: 239it [00:58,  3.96it/s]                                                               \n"
     ]
    }
   ],
   "source": [
    "# Explainer works on the model + training data\n",
    "explainer = shap.Explainer(model, X_flat)\n",
    "\n",
    "# Get SHAP values for test set\n",
    "shap_values = explainer(X_flat)\n"
   ]
  },
  {
   "cell_type": "code",
   "execution_count": 27,
   "id": "5b4ce2aa-2201-4db0-a516-1b7c83326cfd",
   "metadata": {},
   "outputs": [],
   "source": [
    "sample_idx = 22\n",
    "sample_shap = shap_values.values[sample_idx]  # shape: (timesteps*n_features,)"
   ]
  },
  {
   "cell_type": "code",
   "execution_count": 28,
   "id": "fc527216-fc3e-445e-aa34-82734cbbabc0",
   "metadata": {},
   "outputs": [],
   "source": [
    "factors = list(zip(flat_feature_names, sample_shap))\n",
    "# Sort by absolute importance\n",
    "top_factors = sorted(factors, key=lambda x: abs(x[1]), reverse=True)[:5]"
   ]
  },
  {
   "cell_type": "code",
   "execution_count": 29,
   "id": "fa88a6b9-0322-417d-a152-3d1c8b5e11b4",
   "metadata": {},
   "outputs": [],
   "source": [
    "# Suppose n_features = 10, timesteps = 4\n",
    "n_features = X.shape[2]\n",
    "timesteps = X.shape[1]\n",
    "\n",
    "# shap_values.values has shape (samples, timesteps*n_features)\n",
    "shap_reshaped = shap_values.values.reshape(\n",
    "    shap_values.values.shape[0], timesteps, n_features\n",
    ")"
   ]
  },
  {
   "cell_type": "code",
   "execution_count": 30,
   "id": "74e594a5-c9cd-4b37-a489-1df12368fede",
   "metadata": {},
   "outputs": [],
   "source": [
    "formatted_factors = []\n",
    "for name, val in top_factors:\n",
    "    direction = \"increased\" if val > 0 else \"decreased\"\n",
    "    formatted_factors.append(f\"{name}: {val:+.2f} (this {direction} the predicted net income)\")"
   ]
  },
  {
   "cell_type": "code",
   "execution_count": 31,
   "id": "7eb49b30-99e7-4efb-9cc8-dc87a8218d92",
   "metadata": {},
   "outputs": [
    {
     "data": {
      "text/plain": [
       "['Q2_Normalized EBITDA: -0.00 (this decreased the predicted net income)',\n",
       " 'Q3_EBITDA: -0.00 (this decreased the predicted net income)',\n",
       " 'Q1_EBITDA: -0.00 (this decreased the predicted net income)',\n",
       " 'Q4_EBITDA: -0.00 (this decreased the predicted net income)',\n",
       " 'Q1_Interest Expense: +0.00 (this increased the predicted net income)']"
      ]
     },
     "execution_count": 31,
     "metadata": {},
     "output_type": "execute_result"
    }
   ],
   "source": [
    "# shap.summary_plot(shap_values, X_flat, feature_names=flat_feature_names)\n",
    "formatted_factors"
   ]
  },
  {
   "cell_type": "code",
   "execution_count": 32,
   "id": "0bb2ed10-fa22-4d95-a0e3-ce4d01eee088",
   "metadata": {},
   "outputs": [],
   "source": [
    "def shapSheet():\n",
    "    rows = []\n",
    "    for i in range(237):\n",
    "        sample_idx = i  # update this dynamically if needed\n",
    "        sample_shap = shap_values.values[sample_idx]\n",
    "        factors = list(zip(flat_feature_names, sample_shap))\n",
    "        # Sort and get top 5 features by importance\n",
    "        top_factors = sorted(factors, key=lambda x: abs(x[1]), reverse=True)[:5]\n",
    "        ticker = df.iloc[5*i - 1]['Ticker']\n",
    "        date_1 = df.iloc[5*i - 5]['Date']\n",
    "        date_2 = df.iloc[5*i - 1]['Date']\n",
    "        row_data = {\n",
    "            'Ticker': ticker,\n",
    "            'Date_1': date_1,\n",
    "            'Date_2': date_2\n",
    "        }\n",
    "        # Use formatted factor strings for important features\n",
    "        for j, (name, val) in enumerate(top_factors, 1):\n",
    "            direction = \"increased\" if val > 0 else \"decreased\"\n",
    "            row_data[f'Feature_{j}'] = f\"{name}: {val:+.2f} (this {direction} the net income)\"\n",
    "        rows.append(row_data)\n",
    "    output_df = pd.DataFrame(rows)\n",
    "    output_df.to_csv('shap_top_features.csv', index=False)\n",
    "    # print(output_df)\n",
    "\n",
    "shapSheet()\n"
   ]
  },
  {
   "cell_type": "code",
   "execution_count": null,
   "id": "5c445721-a7d7-4a20-9de3-99f6e89f62db",
   "metadata": {},
   "outputs": [],
   "source": []
  }
 ],
 "metadata": {
  "kernelspec": {
   "display_name": "Python 3 (ipykernel)",
   "language": "python",
   "name": "python3"
  },
  "language_info": {
   "codemirror_mode": {
    "name": "ipython",
    "version": 3
   },
   "file_extension": ".py",
   "mimetype": "text/x-python",
   "name": "python",
   "nbconvert_exporter": "python",
   "pygments_lexer": "ipython3",
   "version": "3.12.4"
  }
 },
 "nbformat": 4,
 "nbformat_minor": 5
}
