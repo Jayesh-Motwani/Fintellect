{
 "cells": [
  {
   "cell_type": "code",
   "id": "initial_id",
   "metadata": {
    "collapsed": true,
    "ExecuteTime": {
     "end_time": "2025-09-21T21:34:41.275886Z",
     "start_time": "2025-09-21T21:34:41.272061Z"
    }
   },
   "source": [
    "import pandas as pd\n",
    "import numpy as np\n",
    "import yfinance as yf\n",
    "import json\n",
    "import pickle\n",
    "from dateutil.relativedelta import relativedelta"
   ],
   "outputs": [],
   "execution_count": 34
  },
  {
   "metadata": {
    "ExecuteTime": {
     "end_time": "2025-09-21T20:12:27.169351Z",
     "start_time": "2025-09-21T20:12:27.160339Z"
    }
   },
   "cell_type": "code",
   "source": "df = pd.read_csv(\"sexy.csv\")",
   "id": "4cb56845693d7d50",
   "outputs": [],
   "execution_count": 4
  },
  {
   "metadata": {
    "ExecuteTime": {
     "end_time": "2025-09-21T20:55:23.055728Z",
     "start_time": "2025-09-21T20:55:23.042425Z"
    }
   },
   "cell_type": "code",
   "source": "df",
   "id": "3ebdf6defa5d1ca4",
   "outputs": [
    {
     "data": {
      "text/plain": [
       "            Ticker     Quarter  Depreciation  EPS in Rs  Expenses +  Interest  \\\n",
       "0      AARTIIND.NS  2022-06-01          72.0       3.75      1326.0      45.0   \n",
       "1      AARTIIND.NS  2022-09-01          73.0       3.42      1418.0      44.0   \n",
       "2      AARTIIND.NS  2022-12-01          82.0       3.77      1379.0      47.0   \n",
       "3      AARTIIND.NS  2023-03-01          84.0       4.11      1403.0      33.0   \n",
       "4      AARTIIND.NS  2023-06-01          89.0       1.93      1214.0      40.0   \n",
       "...            ...         ...           ...        ...         ...       ...   \n",
       "3206  ZYDUSLIFE.NS  2024-06-01         215.0      14.11      4124.0      32.0   \n",
       "3207  ZYDUSLIFE.NS  2024-09-01         234.0       9.06      3776.0      25.0   \n",
       "3208  ZYDUSLIFE.NS  2024-12-01         229.0      10.17      3882.0      32.0   \n",
       "3209  ZYDUSLIFE.NS  2025-03-01         238.0      11.64      4402.0      77.0   \n",
       "3210  ZYDUSLIFE.NS  2025-06-01         238.0      14.58      4485.0      85.0   \n",
       "\n",
       "      Net Profit +  Other Income +  Profit before tax  Tax %  \n",
       "0            136.0             0.0              167.0   19.0  \n",
       "1            124.0             0.0              150.0   17.0  \n",
       "2            137.0             0.0              160.0   15.0  \n",
       "3            149.0             0.0              136.0  -10.0  \n",
       "4             70.0             0.0               71.0    1.0  \n",
       "...            ...             ...                ...    ...  \n",
       "3206        1482.0            63.0             1900.0   23.0  \n",
       "3207         920.0            68.0             1271.0   29.0  \n",
       "3208        1026.0            57.0             1184.0   15.0  \n",
       "3209        1244.0          -139.0             1672.0   25.0  \n",
       "3210        1521.0           155.0             1921.0   23.0  \n",
       "\n",
       "[3211 rows x 10 columns]"
      ],
      "text/html": [
       "<div>\n",
       "<style scoped>\n",
       "    .dataframe tbody tr th:only-of-type {\n",
       "        vertical-align: middle;\n",
       "    }\n",
       "\n",
       "    .dataframe tbody tr th {\n",
       "        vertical-align: top;\n",
       "    }\n",
       "\n",
       "    .dataframe thead th {\n",
       "        text-align: right;\n",
       "    }\n",
       "</style>\n",
       "<table border=\"1\" class=\"dataframe\">\n",
       "  <thead>\n",
       "    <tr style=\"text-align: right;\">\n",
       "      <th></th>\n",
       "      <th>Ticker</th>\n",
       "      <th>Quarter</th>\n",
       "      <th>Depreciation</th>\n",
       "      <th>EPS in Rs</th>\n",
       "      <th>Expenses +</th>\n",
       "      <th>Interest</th>\n",
       "      <th>Net Profit +</th>\n",
       "      <th>Other Income +</th>\n",
       "      <th>Profit before tax</th>\n",
       "      <th>Tax %</th>\n",
       "    </tr>\n",
       "  </thead>\n",
       "  <tbody>\n",
       "    <tr>\n",
       "      <th>0</th>\n",
       "      <td>AARTIIND.NS</td>\n",
       "      <td>2022-06-01</td>\n",
       "      <td>72.0</td>\n",
       "      <td>3.75</td>\n",
       "      <td>1326.0</td>\n",
       "      <td>45.0</td>\n",
       "      <td>136.0</td>\n",
       "      <td>0.0</td>\n",
       "      <td>167.0</td>\n",
       "      <td>19.0</td>\n",
       "    </tr>\n",
       "    <tr>\n",
       "      <th>1</th>\n",
       "      <td>AARTIIND.NS</td>\n",
       "      <td>2022-09-01</td>\n",
       "      <td>73.0</td>\n",
       "      <td>3.42</td>\n",
       "      <td>1418.0</td>\n",
       "      <td>44.0</td>\n",
       "      <td>124.0</td>\n",
       "      <td>0.0</td>\n",
       "      <td>150.0</td>\n",
       "      <td>17.0</td>\n",
       "    </tr>\n",
       "    <tr>\n",
       "      <th>2</th>\n",
       "      <td>AARTIIND.NS</td>\n",
       "      <td>2022-12-01</td>\n",
       "      <td>82.0</td>\n",
       "      <td>3.77</td>\n",
       "      <td>1379.0</td>\n",
       "      <td>47.0</td>\n",
       "      <td>137.0</td>\n",
       "      <td>0.0</td>\n",
       "      <td>160.0</td>\n",
       "      <td>15.0</td>\n",
       "    </tr>\n",
       "    <tr>\n",
       "      <th>3</th>\n",
       "      <td>AARTIIND.NS</td>\n",
       "      <td>2023-03-01</td>\n",
       "      <td>84.0</td>\n",
       "      <td>4.11</td>\n",
       "      <td>1403.0</td>\n",
       "      <td>33.0</td>\n",
       "      <td>149.0</td>\n",
       "      <td>0.0</td>\n",
       "      <td>136.0</td>\n",
       "      <td>-10.0</td>\n",
       "    </tr>\n",
       "    <tr>\n",
       "      <th>4</th>\n",
       "      <td>AARTIIND.NS</td>\n",
       "      <td>2023-06-01</td>\n",
       "      <td>89.0</td>\n",
       "      <td>1.93</td>\n",
       "      <td>1214.0</td>\n",
       "      <td>40.0</td>\n",
       "      <td>70.0</td>\n",
       "      <td>0.0</td>\n",
       "      <td>71.0</td>\n",
       "      <td>1.0</td>\n",
       "    </tr>\n",
       "    <tr>\n",
       "      <th>...</th>\n",
       "      <td>...</td>\n",
       "      <td>...</td>\n",
       "      <td>...</td>\n",
       "      <td>...</td>\n",
       "      <td>...</td>\n",
       "      <td>...</td>\n",
       "      <td>...</td>\n",
       "      <td>...</td>\n",
       "      <td>...</td>\n",
       "      <td>...</td>\n",
       "    </tr>\n",
       "    <tr>\n",
       "      <th>3206</th>\n",
       "      <td>ZYDUSLIFE.NS</td>\n",
       "      <td>2024-06-01</td>\n",
       "      <td>215.0</td>\n",
       "      <td>14.11</td>\n",
       "      <td>4124.0</td>\n",
       "      <td>32.0</td>\n",
       "      <td>1482.0</td>\n",
       "      <td>63.0</td>\n",
       "      <td>1900.0</td>\n",
       "      <td>23.0</td>\n",
       "    </tr>\n",
       "    <tr>\n",
       "      <th>3207</th>\n",
       "      <td>ZYDUSLIFE.NS</td>\n",
       "      <td>2024-09-01</td>\n",
       "      <td>234.0</td>\n",
       "      <td>9.06</td>\n",
       "      <td>3776.0</td>\n",
       "      <td>25.0</td>\n",
       "      <td>920.0</td>\n",
       "      <td>68.0</td>\n",
       "      <td>1271.0</td>\n",
       "      <td>29.0</td>\n",
       "    </tr>\n",
       "    <tr>\n",
       "      <th>3208</th>\n",
       "      <td>ZYDUSLIFE.NS</td>\n",
       "      <td>2024-12-01</td>\n",
       "      <td>229.0</td>\n",
       "      <td>10.17</td>\n",
       "      <td>3882.0</td>\n",
       "      <td>32.0</td>\n",
       "      <td>1026.0</td>\n",
       "      <td>57.0</td>\n",
       "      <td>1184.0</td>\n",
       "      <td>15.0</td>\n",
       "    </tr>\n",
       "    <tr>\n",
       "      <th>3209</th>\n",
       "      <td>ZYDUSLIFE.NS</td>\n",
       "      <td>2025-03-01</td>\n",
       "      <td>238.0</td>\n",
       "      <td>11.64</td>\n",
       "      <td>4402.0</td>\n",
       "      <td>77.0</td>\n",
       "      <td>1244.0</td>\n",
       "      <td>-139.0</td>\n",
       "      <td>1672.0</td>\n",
       "      <td>25.0</td>\n",
       "    </tr>\n",
       "    <tr>\n",
       "      <th>3210</th>\n",
       "      <td>ZYDUSLIFE.NS</td>\n",
       "      <td>2025-06-01</td>\n",
       "      <td>238.0</td>\n",
       "      <td>14.58</td>\n",
       "      <td>4485.0</td>\n",
       "      <td>85.0</td>\n",
       "      <td>1521.0</td>\n",
       "      <td>155.0</td>\n",
       "      <td>1921.0</td>\n",
       "      <td>23.0</td>\n",
       "    </tr>\n",
       "  </tbody>\n",
       "</table>\n",
       "<p>3211 rows × 10 columns</p>\n",
       "</div>"
      ]
     },
     "execution_count": 7,
     "metadata": {},
     "output_type": "execute_result"
    }
   ],
   "execution_count": 7
  },
  {
   "metadata": {
    "ExecuteTime": {
     "end_time": "2025-09-21T20:57:16.884867Z",
     "start_time": "2025-09-21T20:57:16.878868Z"
    }
   },
   "cell_type": "code",
   "source": [
    "import pandas as pd\n",
    "import yfinance as yf\n",
    "\n",
    "def add_average_prices(df):\n",
    "    \"\"\"\n",
    "    Fetches historical stock data and adds the quarterly average price to the DataFrame.\n",
    "\n",
    "    Args:\n",
    "        df (pd.DataFrame): The input DataFrame with 'Ticker' and 'Quarter' columns.\n",
    "\n",
    "    Returns:\n",
    "        pd.DataFrame: The DataFrame with the new 'Average Stock Price' column.\n",
    "    \"\"\"\n",
    "    # --- Step 1: Prepare Tickers and Date Range ---\n",
    "    # Ensure Quarter column is in datetime format for proper filtering\n",
    "    df['Quarter'] = pd.to_datetime(df['Quarter'])\n",
    "\n",
    "    # Get a list of all unique tickers and the overall date range needed\n",
    "    tickers = df['Ticker'].unique().tolist()\n",
    "    start_date = df['Quarter'].min()\n",
    "    # Calculate the end date by adding 3 months to the last quarter's start date\n",
    "    end_date = df['Quarter'].max() + pd.DateOffset(months=3)\n",
    "\n",
    "    # --- Step 2: Download All Stock Data at Once ---\n",
    "    # This is much more efficient than one call per row.\n",
    "    # The downloaded data will have multi-level columns, e.g., ('Close', 'AARTIIND.NS')\n",
    "    print(\"Downloading historical stock data for all tickers...\")\n",
    "    all_data = yf.download(tickers, start=start_date, end=end_date, progress=False)\n",
    "    print(\"Download complete.\")\n",
    "\n",
    "    if all_data.empty:\n",
    "        print(\"Could not download any stock data. Please check ticker symbols.\")\n",
    "        df['Average Stock Price'] = None\n",
    "        return df\n",
    "\n",
    "    # We only need the 'Close' prices for our calculation\n",
    "    close_prices = all_data['Close']\n",
    "\n",
    "    # --- Step 3: Calculate Averages for each row ---\n",
    "    def calculate_avg_for_row(row):\n",
    "        ticker = row['Ticker']\n",
    "        quarter_start = row['Quarter']\n",
    "        quarter_end = quarter_start + pd.DateOffset(months=3)\n",
    "\n",
    "        # Check if we have data for this specific ticker\n",
    "        if ticker not in close_prices.columns:\n",
    "            return None\n",
    "\n",
    "        # Select the 'Close' prices for the current row's ticker and quarter\n",
    "        quarterly_prices = close_prices[ticker][(close_prices.index >= quarter_start) & (close_prices.index < quarter_end)]\n",
    "\n",
    "        # Calculate the mean price, if any data exists for that period\n",
    "        if not quarterly_prices.empty:\n",
    "            return quarterly_prices.mean()\n",
    "        else:\n",
    "            return None\n",
    "\n",
    "    print(\"Calculating quarterly averages...\")\n",
    "    df['Average Stock Price'] = df.apply(calculate_avg_for_row, axis=1)\n",
    "    print(\"Calculation complete.\")\n",
    "\n",
    "    return df"
   ],
   "id": "5a8cfa6849945ffd",
   "outputs": [],
   "execution_count": 8
  },
  {
   "metadata": {
    "ExecuteTime": {
     "end_time": "2025-09-21T20:57:29.698293Z",
     "start_time": "2025-09-21T20:57:18.095077Z"
    }
   },
   "cell_type": "code",
   "source": [
    "# --- Main Execution ---\n",
    "try:\n",
    "    # Load your dataset\n",
    "    df = pd.read_csv('sexy.csv')\n",
    "    \n",
    "    # Run the function to add the new column\n",
    "    updated_df = add_average_prices(df)\n",
    "\n",
    "    # Display the first few rows of the result\n",
    "    print(\"\\n--- Updated DataFrame ---\")\n",
    "    print(updated_df.head())\n",
    "\n",
    "    # Save the final result to a new CSV file\n",
    "    updated_df.to_csv('sexy_with_avg_price.csv', index=False)\n",
    "    print(\"\\nSuccessfully saved the updated data to 'sexy_with_avg_price.csv'\")\n",
    "\n",
    "except FileNotFoundError:\n",
    "    print(\"Error: 'sexy.csv' not found. Please ensure the file is in the same directory as the script.\")\n",
    "except Exception as e:\n",
    "    print(f\"An unexpected error occurred: {e}\")"
   ],
   "id": "3cfc66b7994db6c2",
   "outputs": [
    {
     "name": "stdout",
     "output_type": "stream",
     "text": [
      "Downloading historical stock data for all tickers...\n"
     ]
    },
    {
     "name": "stderr",
     "output_type": "stream",
     "text": [
      "C:\\Users\\mjaye\\AppData\\Local\\Temp\\ipykernel_14348\\1154276394.py:28: FutureWarning: YF.download() has changed argument auto_adjust default to True\n",
      "  all_data = yf.download(tickers, start=start_date, end=end_date, progress=False)\n"
     ]
    },
    {
     "name": "stdout",
     "output_type": "stream",
     "text": [
      "Download complete.\n",
      "Calculating quarterly averages...\n",
      "Calculation complete.\n",
      "\n",
      "--- Updated DataFrame ---\n",
      "        Ticker    Quarter  Depreciation  EPS in Rs  Expenses +  Interest  \\\n",
      "0  AARTIIND.NS 2022-06-01          72.0       3.75      1326.0      45.0   \n",
      "1  AARTIIND.NS 2022-09-01          73.0       3.42      1418.0      44.0   \n",
      "2  AARTIIND.NS 2022-12-01          82.0       3.77      1379.0      47.0   \n",
      "3  AARTIIND.NS 2023-03-01          84.0       4.11      1403.0      33.0   \n",
      "4  AARTIIND.NS 2023-06-01          89.0       1.93      1214.0      40.0   \n",
      "\n",
      "   Net Profit +  Other Income +  Profit before tax  Tax %  Average Stock Price  \n",
      "0         136.0             0.0              167.0   19.0           741.980471  \n",
      "1         124.0             0.0              150.0   17.0           753.102151  \n",
      "2         137.0             0.0              160.0   15.0           580.257191  \n",
      "3         149.0             0.0              136.0  -10.0           524.293072  \n",
      "4          70.0             0.0               71.0    1.0           479.543615  \n",
      "\n",
      "Successfully saved the updated data to 'sexy_with_avg_price.csv'\n"
     ]
    }
   ],
   "execution_count": 9
  },
  {
   "metadata": {
    "ExecuteTime": {
     "end_time": "2025-09-21T20:58:52.759332Z",
     "start_time": "2025-09-21T20:58:52.751327Z"
    }
   },
   "cell_type": "code",
   "source": "df.info()",
   "id": "ba536867beb3cc73",
   "outputs": [
    {
     "name": "stdout",
     "output_type": "stream",
     "text": [
      "<class 'pandas.core.frame.DataFrame'>\n",
      "RangeIndex: 3211 entries, 0 to 3210\n",
      "Data columns (total 11 columns):\n",
      " #   Column               Non-Null Count  Dtype         \n",
      "---  ------               --------------  -----         \n",
      " 0   Ticker               3211 non-null   object        \n",
      " 1   Quarter              3211 non-null   datetime64[ns]\n",
      " 2   Depreciation         3211 non-null   float64       \n",
      " 3   EPS in Rs            3211 non-null   float64       \n",
      " 4   Expenses +           3211 non-null   float64       \n",
      " 5   Interest             3211 non-null   float64       \n",
      " 6   Net Profit +         3211 non-null   float64       \n",
      " 7   Other Income +       3211 non-null   float64       \n",
      " 8   Profit before tax    3211 non-null   float64       \n",
      " 9   Tax %                3211 non-null   float64       \n",
      " 10  Average Stock Price  3201 non-null   float64       \n",
      "dtypes: datetime64[ns](1), float64(9), object(1)\n",
      "memory usage: 276.1+ KB\n"
     ]
    }
   ],
   "execution_count": 10
  },
  {
   "metadata": {
    "ExecuteTime": {
     "end_time": "2025-09-21T21:00:51.193968Z",
     "start_time": "2025-09-21T21:00:51.174956Z"
    }
   },
   "cell_type": "code",
   "source": "df.fillna(method='ffill', inplace=True)",
   "id": "2aed06d276c47377",
   "outputs": [
    {
     "name": "stderr",
     "output_type": "stream",
     "text": [
      "C:\\Users\\mjaye\\AppData\\Local\\Temp\\ipykernel_14348\\4002983762.py:1: FutureWarning: DataFrame.fillna with 'method' is deprecated and will raise in a future version. Use obj.ffill() or obj.bfill() instead.\n",
      "  df.fillna(method='ffill', inplace=True)\n"
     ]
    }
   ],
   "execution_count": 12
  },
  {
   "metadata": {
    "ExecuteTime": {
     "end_time": "2025-09-21T21:07:20.598328Z",
     "start_time": "2025-09-21T21:07:20.587621Z"
    }
   },
   "cell_type": "code",
   "source": "df",
   "id": "a98b0436283176db",
   "outputs": [
    {
     "data": {
      "text/plain": [
       "            Ticker    Quarter  Depreciation  EPS in Rs  Expenses +  Interest  \\\n",
       "0      AARTIIND.NS 2022-06-01          72.0       3.75      1326.0      45.0   \n",
       "1      AARTIIND.NS 2022-09-01          73.0       3.42      1418.0      44.0   \n",
       "2      AARTIIND.NS 2022-12-01          82.0       3.77      1379.0      47.0   \n",
       "3      AARTIIND.NS 2023-03-01          84.0       4.11      1403.0      33.0   \n",
       "4      AARTIIND.NS 2023-06-01          89.0       1.93      1214.0      40.0   \n",
       "...            ...        ...           ...        ...         ...       ...   \n",
       "3206  ZYDUSLIFE.NS 2024-06-01         215.0      14.11      4124.0      32.0   \n",
       "3207  ZYDUSLIFE.NS 2024-09-01         234.0       9.06      3776.0      25.0   \n",
       "3208  ZYDUSLIFE.NS 2024-12-01         229.0      10.17      3882.0      32.0   \n",
       "3209  ZYDUSLIFE.NS 2025-03-01         238.0      11.64      4402.0      77.0   \n",
       "3210  ZYDUSLIFE.NS 2025-06-01         238.0      14.58      4485.0      85.0   \n",
       "\n",
       "      Net Profit +  Other Income +  Profit before tax  Tax %  \\\n",
       "0            136.0             0.0              167.0   19.0   \n",
       "1            124.0             0.0              150.0   17.0   \n",
       "2            137.0             0.0              160.0   15.0   \n",
       "3            149.0             0.0              136.0  -10.0   \n",
       "4             70.0             0.0               71.0    1.0   \n",
       "...            ...             ...                ...    ...   \n",
       "3206        1482.0            63.0             1900.0   23.0   \n",
       "3207         920.0            68.0             1271.0   29.0   \n",
       "3208        1026.0            57.0             1184.0   15.0   \n",
       "3209        1244.0          -139.0             1672.0   25.0   \n",
       "3210        1521.0           155.0             1921.0   23.0   \n",
       "\n",
       "      Average Stock Price  \n",
       "0              741.980471  \n",
       "1              753.102151  \n",
       "2              580.257191  \n",
       "3              524.293072  \n",
       "4              479.543615  \n",
       "...                   ...  \n",
       "3206          1133.486494  \n",
       "3207          1019.727555  \n",
       "3208           950.947210  \n",
       "3209           878.099550  \n",
       "3210           965.877215  \n",
       "\n",
       "[3211 rows x 11 columns]"
      ],
      "text/html": [
       "<div>\n",
       "<style scoped>\n",
       "    .dataframe tbody tr th:only-of-type {\n",
       "        vertical-align: middle;\n",
       "    }\n",
       "\n",
       "    .dataframe tbody tr th {\n",
       "        vertical-align: top;\n",
       "    }\n",
       "\n",
       "    .dataframe thead th {\n",
       "        text-align: right;\n",
       "    }\n",
       "</style>\n",
       "<table border=\"1\" class=\"dataframe\">\n",
       "  <thead>\n",
       "    <tr style=\"text-align: right;\">\n",
       "      <th></th>\n",
       "      <th>Ticker</th>\n",
       "      <th>Quarter</th>\n",
       "      <th>Depreciation</th>\n",
       "      <th>EPS in Rs</th>\n",
       "      <th>Expenses +</th>\n",
       "      <th>Interest</th>\n",
       "      <th>Net Profit +</th>\n",
       "      <th>Other Income +</th>\n",
       "      <th>Profit before tax</th>\n",
       "      <th>Tax %</th>\n",
       "      <th>Average Stock Price</th>\n",
       "    </tr>\n",
       "  </thead>\n",
       "  <tbody>\n",
       "    <tr>\n",
       "      <th>0</th>\n",
       "      <td>AARTIIND.NS</td>\n",
       "      <td>2022-06-01</td>\n",
       "      <td>72.0</td>\n",
       "      <td>3.75</td>\n",
       "      <td>1326.0</td>\n",
       "      <td>45.0</td>\n",
       "      <td>136.0</td>\n",
       "      <td>0.0</td>\n",
       "      <td>167.0</td>\n",
       "      <td>19.0</td>\n",
       "      <td>741.980471</td>\n",
       "    </tr>\n",
       "    <tr>\n",
       "      <th>1</th>\n",
       "      <td>AARTIIND.NS</td>\n",
       "      <td>2022-09-01</td>\n",
       "      <td>73.0</td>\n",
       "      <td>3.42</td>\n",
       "      <td>1418.0</td>\n",
       "      <td>44.0</td>\n",
       "      <td>124.0</td>\n",
       "      <td>0.0</td>\n",
       "      <td>150.0</td>\n",
       "      <td>17.0</td>\n",
       "      <td>753.102151</td>\n",
       "    </tr>\n",
       "    <tr>\n",
       "      <th>2</th>\n",
       "      <td>AARTIIND.NS</td>\n",
       "      <td>2022-12-01</td>\n",
       "      <td>82.0</td>\n",
       "      <td>3.77</td>\n",
       "      <td>1379.0</td>\n",
       "      <td>47.0</td>\n",
       "      <td>137.0</td>\n",
       "      <td>0.0</td>\n",
       "      <td>160.0</td>\n",
       "      <td>15.0</td>\n",
       "      <td>580.257191</td>\n",
       "    </tr>\n",
       "    <tr>\n",
       "      <th>3</th>\n",
       "      <td>AARTIIND.NS</td>\n",
       "      <td>2023-03-01</td>\n",
       "      <td>84.0</td>\n",
       "      <td>4.11</td>\n",
       "      <td>1403.0</td>\n",
       "      <td>33.0</td>\n",
       "      <td>149.0</td>\n",
       "      <td>0.0</td>\n",
       "      <td>136.0</td>\n",
       "      <td>-10.0</td>\n",
       "      <td>524.293072</td>\n",
       "    </tr>\n",
       "    <tr>\n",
       "      <th>4</th>\n",
       "      <td>AARTIIND.NS</td>\n",
       "      <td>2023-06-01</td>\n",
       "      <td>89.0</td>\n",
       "      <td>1.93</td>\n",
       "      <td>1214.0</td>\n",
       "      <td>40.0</td>\n",
       "      <td>70.0</td>\n",
       "      <td>0.0</td>\n",
       "      <td>71.0</td>\n",
       "      <td>1.0</td>\n",
       "      <td>479.543615</td>\n",
       "    </tr>\n",
       "    <tr>\n",
       "      <th>...</th>\n",
       "      <td>...</td>\n",
       "      <td>...</td>\n",
       "      <td>...</td>\n",
       "      <td>...</td>\n",
       "      <td>...</td>\n",
       "      <td>...</td>\n",
       "      <td>...</td>\n",
       "      <td>...</td>\n",
       "      <td>...</td>\n",
       "      <td>...</td>\n",
       "      <td>...</td>\n",
       "    </tr>\n",
       "    <tr>\n",
       "      <th>3206</th>\n",
       "      <td>ZYDUSLIFE.NS</td>\n",
       "      <td>2024-06-01</td>\n",
       "      <td>215.0</td>\n",
       "      <td>14.11</td>\n",
       "      <td>4124.0</td>\n",
       "      <td>32.0</td>\n",
       "      <td>1482.0</td>\n",
       "      <td>63.0</td>\n",
       "      <td>1900.0</td>\n",
       "      <td>23.0</td>\n",
       "      <td>1133.486494</td>\n",
       "    </tr>\n",
       "    <tr>\n",
       "      <th>3207</th>\n",
       "      <td>ZYDUSLIFE.NS</td>\n",
       "      <td>2024-09-01</td>\n",
       "      <td>234.0</td>\n",
       "      <td>9.06</td>\n",
       "      <td>3776.0</td>\n",
       "      <td>25.0</td>\n",
       "      <td>920.0</td>\n",
       "      <td>68.0</td>\n",
       "      <td>1271.0</td>\n",
       "      <td>29.0</td>\n",
       "      <td>1019.727555</td>\n",
       "    </tr>\n",
       "    <tr>\n",
       "      <th>3208</th>\n",
       "      <td>ZYDUSLIFE.NS</td>\n",
       "      <td>2024-12-01</td>\n",
       "      <td>229.0</td>\n",
       "      <td>10.17</td>\n",
       "      <td>3882.0</td>\n",
       "      <td>32.0</td>\n",
       "      <td>1026.0</td>\n",
       "      <td>57.0</td>\n",
       "      <td>1184.0</td>\n",
       "      <td>15.0</td>\n",
       "      <td>950.947210</td>\n",
       "    </tr>\n",
       "    <tr>\n",
       "      <th>3209</th>\n",
       "      <td>ZYDUSLIFE.NS</td>\n",
       "      <td>2025-03-01</td>\n",
       "      <td>238.0</td>\n",
       "      <td>11.64</td>\n",
       "      <td>4402.0</td>\n",
       "      <td>77.0</td>\n",
       "      <td>1244.0</td>\n",
       "      <td>-139.0</td>\n",
       "      <td>1672.0</td>\n",
       "      <td>25.0</td>\n",
       "      <td>878.099550</td>\n",
       "    </tr>\n",
       "    <tr>\n",
       "      <th>3210</th>\n",
       "      <td>ZYDUSLIFE.NS</td>\n",
       "      <td>2025-06-01</td>\n",
       "      <td>238.0</td>\n",
       "      <td>14.58</td>\n",
       "      <td>4485.0</td>\n",
       "      <td>85.0</td>\n",
       "      <td>1521.0</td>\n",
       "      <td>155.0</td>\n",
       "      <td>1921.0</td>\n",
       "      <td>23.0</td>\n",
       "      <td>965.877215</td>\n",
       "    </tr>\n",
       "  </tbody>\n",
       "</table>\n",
       "<p>3211 rows × 11 columns</p>\n",
       "</div>"
      ]
     },
     "execution_count": 21,
     "metadata": {},
     "output_type": "execute_result"
    }
   ],
   "execution_count": 21
  },
  {
   "metadata": {
    "ExecuteTime": {
     "end_time": "2025-09-21T21:06:50.310914Z",
     "start_time": "2025-09-21T21:06:50.305005Z"
    }
   },
   "cell_type": "code",
   "source": "df.columns",
   "id": "651550c5fd88cb81",
   "outputs": [
    {
     "data": {
      "text/plain": [
       "Index(['Ticker', 'Quarter', 'Depreciation', 'EPS in Rs', 'Expenses +',\n",
       "       'Interest', 'Net Profit +', 'Other Income +', 'Profit before tax',\n",
       "       'Tax %', 'Average Stock Price'],\n",
       "      dtype='object')"
      ]
     },
     "execution_count": 16,
     "metadata": {},
     "output_type": "execute_result"
    }
   ],
   "execution_count": 16
  },
  {
   "metadata": {
    "ExecuteTime": {
     "end_time": "2025-09-21T21:27:51.601948Z",
     "start_time": "2025-09-21T21:27:51.596951Z"
    }
   },
   "cell_type": "code",
   "source": "len(df['Ticker'].unique())",
   "id": "a8dd3d9faacde40",
   "outputs": [
    {
     "data": {
      "text/plain": [
       "247"
      ]
     },
     "execution_count": 32,
     "metadata": {},
     "output_type": "execute_result"
    }
   ],
   "execution_count": 32
  },
  {
   "metadata": {
    "ExecuteTime": {
     "end_time": "2025-09-21T21:24:46.332073Z",
     "start_time": "2025-09-21T21:24:46.254512Z"
    }
   },
   "cell_type": "code",
   "source": [
    "TARGET_COLUMN = 'Average Stock Price'\n",
    "CONTEXT_LENGTH = 4\n",
    "PREDICTION_LENGTH = 2\n",
    "\n",
    "df = pd.read_csv('sexy_with_avg_price.csv')\n",
    "df = df.sort_values(by=['Ticker', 'Quarter'])\n",
    "\n",
    "feature_columns = [\n",
    "    col for col in df.select_dtypes(include=np.number).columns \n",
    "    if col != TARGET_COLUMN\n",
    "]\n",
    "\n",
    "print(f\"Target Column: {TARGET_COLUMN}\")\n",
    "print(f\"Feature Columns: {feature_columns}\")\n",
    "\n",
    "# Create a mapping for static categorical features (Ticker -> integer ID)\n",
    "ticker_map = {ticker: i for i, ticker in enumerate(df['Ticker'].unique())}\n",
    "\n",
    "# --- Convert Data into Time Series Format ---\n",
    "training_data = []\n",
    "testing_data = []\n",
    "\n",
    "# Group by ticker to process each time series individually\n",
    "for ticker, group in df.groupby('Ticker'):\n",
    "    # Get the start date of the series\n",
    "    start_date = group['Quarter'].min()\n",
    "    \n",
    "    # Extract target values\n",
    "    target_values = group[TARGET_COLUMN].values\n",
    "    \n",
    "    # Extract dynamic features\n",
    "    dynamic_features = group[feature_columns].values.T # Transpose to get (num_features, series_length)\n",
    "    \n",
    "    # The training target is the series minus the last few data points\n",
    "    train_target = target_values[:-PREDICTION_LENGTH]\n",
    "    \n",
    "    training_data.append({\n",
    "        'start': start_date,\n",
    "        'target': train_target.tolist(),\n",
    "        'feat_static_cat': [ticker_map[ticker]],\n",
    "        'feat_dynamic_real': [feat[:-PREDICTION_LENGTH].tolist() for feat in dynamic_features]\n",
    "    })\n",
    "\n",
    "    # The test target includes the full series, as the model needs the beginning to predict the end\n",
    "    testing_data.append({\n",
    "        'start': start_date,\n",
    "        'target': target_values.tolist(),\n",
    "        'feat_static_cat': [ticker_map[ticker]],\n",
    "        'feat_dynamic_real': [feat.tolist() for feat in dynamic_features]\n",
    "    })\n",
    "\n",
    "\n",
    "# You can now pass `training_data` and `testing_data` to a library like GluonTS\n",
    "# from gluonts.dataset.common import ListDataset\n",
    "# train_ds = ListDataset(training_data, freq=\"QS-DEC\") # QS-DEC for quarterly start, fiscal year ending Dec\n",
    "# test_ds = ListDataset(testing_data, freq=\"QS-DEC\")\n",
    "\n"
   ],
   "id": "22ddb76af87aa33d",
   "outputs": [
    {
     "name": "stdout",
     "output_type": "stream",
     "text": [
      "Target Column: Average Stock Price\n",
      "Feature Columns: ['Depreciation', 'EPS in Rs', 'Expenses\\xa0+', 'Interest', 'Net Profit\\xa0+', 'Other Income\\xa0+', 'Profit before tax', 'Tax %']\n"
     ]
    }
   ],
   "execution_count": 25
  },
  {
   "metadata": {
    "ExecuteTime": {
     "end_time": "2025-09-21T21:37:35.689755Z",
     "start_time": "2025-09-21T21:37:35.686536Z"
    }
   },
   "cell_type": "code",
   "source": "len(training_data)",
   "id": "826cfe8f58186b17",
   "outputs": [
    {
     "data": {
      "text/plain": [
       "247"
      ]
     },
     "execution_count": 35,
     "metadata": {},
     "output_type": "execute_result"
    }
   ],
   "execution_count": 35
  },
  {
   "metadata": {
    "ExecuteTime": {
     "end_time": "2025-09-21T21:37:42.600527Z",
     "start_time": "2025-09-21T21:37:42.596562Z"
    }
   },
   "cell_type": "code",
   "source": "len(testing_data)",
   "id": "aa73271dbf2fae5d",
   "outputs": [
    {
     "data": {
      "text/plain": [
       "247"
      ]
     },
     "execution_count": 36,
     "metadata": {},
     "output_type": "execute_result"
    }
   ],
   "execution_count": 36
  },
  {
   "metadata": {
    "ExecuteTime": {
     "end_time": "2025-09-21T21:24:47.551997Z",
     "start_time": "2025-09-21T21:24:47.547997Z"
    }
   },
   "cell_type": "code",
   "source": [
    "print(f\"\\n training data is {len(training_data)} time series.\")\n",
    "print(f\"Training data points per series: {len(training_data[0]['target'])}\")\n",
    "print(f\"Testing data points per series: {len(testing_data[0]['target'])}\")"
   ],
   "id": "4892045bc54e1f5",
   "outputs": [
    {
     "name": "stdout",
     "output_type": "stream",
     "text": [
      "\n",
      " training data is 247 time series.\n",
      "Training data points per series: 11\n",
      "Testing data points per series: 13\n"
     ]
    }
   ],
   "execution_count": 26
  },
  {
   "metadata": {
    "ExecuteTime": {
     "end_time": "2025-09-21T21:25:02.258479Z",
     "start_time": "2025-09-21T21:25:02.255168Z"
    }
   },
   "cell_type": "code",
   "source": [
    "print(\"\\nExample of the first training series object:\")\n",
    "print(training_data[0])"
   ],
   "id": "6c85d8e137778349",
   "outputs": [
    {
     "name": "stdout",
     "output_type": "stream",
     "text": [
      "\n",
      "Example of the first training series object:\n",
      "{'start': '2022-06-01', 'target': [741.980470687624, 753.1021511939264, 580.2571914915054, 524.2930720011393, 479.54361486434937, 495.94290822347006, 627.5046524540071, 675.1451633259402, 679.4920230988533, 524.714855071037, 427.6349558830261], 'feat_static_cat': [0], 'feat_dynamic_real': [[72.0, 73.0, 82.0, 84.0, 89.0, 93.0, 97.0, 98.0, 102.0, 108.0, 111.0], [3.75, 3.42, 3.77, 4.11, 1.93, 2.51, 3.42, 3.64, 3.78, 1.43, 1.27], [1326.0, 1418.0, 1379.0, 1403.0, 1214.0, 1221.0, 1473.0, 1489.0, 1546.0, 1431.0, 1608.0], [45.0, 44.0, 47.0, 33.0, 40.0, 58.0, 54.0, 59.0, 64.0, 62.0, 85.0], [136.0, 124.0, 137.0, 149.0, 70.0, 91.0, 124.0, 132.0, 137.0, 52.0, 46.0], [0.0, 0.0, 0.0, 0.0, 0.0, 0.0, 8.0, -1.0, 6.0, 7.0, 1.0], [167.0, 150.0, 160.0, 136.0, 71.0, 82.0, 116.0, 126.0, 145.0, 34.0, 40.0], [19.0, 17.0, 15.0, -10.0, 1.0, -11.0, -7.0, -5.0, 6.0, -53.0, -15.0]]}\n"
     ]
    }
   ],
   "execution_count": 27
  },
  {
   "metadata": {
    "ExecuteTime": {
     "end_time": "2025-09-21T21:47:31.114455Z",
     "start_time": "2025-09-21T21:47:31.065724Z"
    }
   },
   "cell_type": "code",
   "source": [
    "json_filepath = 'training_data.json'\n",
    "with open(json_filepath, 'w') as json_file:\n",
    "    json.dump(training_data, json_file, indent=4)\n",
    "print(f\"Data successfully saved to {json_filepath}\")"
   ],
   "id": "ecc2b2082b320679",
   "outputs": [
    {
     "name": "stdout",
     "output_type": "stream",
     "text": [
      "Data successfully saved to training_data.json\n"
     ]
    }
   ],
   "execution_count": 39
  },
  {
   "metadata": {
    "ExecuteTime": {
     "end_time": "2025-09-21T21:47:32.207476Z",
     "start_time": "2025-09-21T21:47:32.158951Z"
    }
   },
   "cell_type": "code",
   "source": [
    "json_filepath = 'testing_data.json'\n",
    "with open(json_filepath, 'w') as json_file:\n",
    "    json.dump(testing_data, json_file, indent=4)\n",
    "print(f\"Data successfully saved to {json_filepath}\")"
   ],
   "id": "516c396d55281a70",
   "outputs": [
    {
     "name": "stdout",
     "output_type": "stream",
     "text": [
      "Data successfully saved to testing_data.json\n"
     ]
    }
   ],
   "execution_count": 40
  },
  {
   "metadata": {},
   "cell_type": "code",
   "outputs": [],
   "execution_count": null,
   "source": [
    "# pickle_filepath = 'training_data.pkl'\n",
    "# with open(pickle_filepath, 'wb') as f:\n",
    "#     pickle.dump(training_samples, f)\n",
    "# print(f\"Data successfully saved to {pickle_filepath}\")"
   ],
   "id": "a0a5a6e09e12ac73"
  }
 ],
 "metadata": {
  "kernelspec": {
   "display_name": "Python 3",
   "language": "python",
   "name": "python3"
  },
  "language_info": {
   "codemirror_mode": {
    "name": "ipython",
    "version": 2
   },
   "file_extension": ".py",
   "mimetype": "text/x-python",
   "name": "python",
   "nbconvert_exporter": "python",
   "pygments_lexer": "ipython2",
   "version": "2.7.6"
  }
 },
 "nbformat": 4,
 "nbformat_minor": 5
}
